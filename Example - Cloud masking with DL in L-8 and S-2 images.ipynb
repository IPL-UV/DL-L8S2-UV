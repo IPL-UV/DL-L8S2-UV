{
 "cells": [
  {
   "cell_type": "code",
   "execution_count": 1,
   "metadata": {},
   "outputs": [],
   "source": [
    "import rasterio\n",
    "import os\n",
    "from glob import glob\n",
    "import matplotlib.pyplot as plt\n",
    "%matplotlib inline\n",
    "\n",
    "from cmixuv.satreaders import l8image, s2image\n",
    "from inference import Model, save_cloud_mask"
   ]
  },
  {
   "cell_type": "code",
   "execution_count": 2,
   "metadata": {},
   "outputs": [],
   "source": [
    "# Tweaks. Recommmended Tensorflow >=2.1 with a CUDA GPU (if available)\n",
    "CUDA_DEVICE = \"GPU\"\n",
    "if CUDA_DEVICE == \"CPU\":\n",
    "    # Disable GPU - Force CPU if your GPU can not handle a full image\n",
    "    os.environ[\"CUDA_VISIBLE_DEVICES\"] = \"-1\"\n",
    "else:\n",
    "    # If a GPU is not installed, these lines take no effect\n",
    "    os.environ[\"CUDA_VISIBLE_DEVICES\"] = \"0\"\n",
    "    # Flag for not allocating all memory at once and run out of memory so early\n",
    "    # Allocate memory on demand\n",
    "    import tensorflow as tf\n",
    "    physical_devices = tf.config.experimental.list_physical_devices('GPU')\n",
    "    if len(physical_devices) > 0:\n",
    "        tf.config.experimental.set_memory_growth(physical_devices[0], True)"
   ]
  },
  {
   "cell_type": "code",
   "execution_count": 3,
   "metadata": {},
   "outputs": [],
   "source": [
    "# DIRS: databases and weights\n",
    "# (Internal) check if mounts are in W10 or Linux\n",
    "root_path = \"//erc.uv.es/databases\"\n",
    "if not os.path.exists(root_path):\n",
    "    root_path = \"/media/disk/databases\"\n",
    "\n",
    "weights_path = os.path.join(root_path, \"CMIX\", \"setupgonzalo\", \"experiments\")\n",
    "CLOUD_DETECTION_WEIGHTS = {\n",
    "    \"rgbiswir\": os.path.join(weights_path, \"landsatbiomeRGBISWIR7.hdf5\"), # TODO create checkpoints folder with model weights\n",
    "    \"rgbi\": os.path.join(weights_path, \"landsatbiomeRGBI6.hdf5\"),\n",
    "}\n",
    "\n",
    "# Options: \n",
    "# FCNN input bands \n",
    "namemodels = [\"rgbi\", \"rgbiswir\"]\n",
    "# Satellite image\n",
    "satnames = [\"L8\", \"S2\"]"
   ]
  },
  {
   "cell_type": "code",
   "execution_count": 4,
   "metadata": {},
   "outputs": [],
   "source": [
    "satname = \"S2\"\n",
    "namemodel = \"rgbiswir\""
   ]
  },
  {
   "cell_type": "code",
   "execution_count": 5,
   "metadata": {},
   "outputs": [],
   "source": [
    "# Read image\n",
    "if satname == \"L8\":\n",
    "    # L-8 image\n",
    "    L8_path = os.path.join(root_path, \"LANDSAT8_CLOUDS\", \"38_CLOUDS\")\n",
    "    L8_prods = [f for f in sorted(glob(os.path.join(L8_path, \"*\")))]\n",
    "\n",
    "    landsatimage = \"C:/Users/danlo/Documents/UV/prods/LC08_L1TP_002053_20160520_20170324_01_T1\"#L8_prods[0]\n",
    "    satobj = l8image.L8Image(landsatimage)\n",
    "\n",
    "else:\n",
    "    # S-2 image\n",
    "    S2_path = os.path.join(root_path, \"SENTINEL2_CLOUDS\", \"SENTINEL_2_BaetensHagolle\")\n",
    "    S2_prods = [f for f in sorted(glob(os.path.join(S2_path, \"*.SAFE\")))]\n",
    "\n",
    "    sentinelimage = \"C:/Users/danlo/Documents/UV/prods/S2A_MSIL1C_20160417T110652_N0201_R137_T29RPQ_20160417T111159.SAFE\"#S2_prods[0]\n",
    "    satobj = s2image.S2Image(sentinelimage)"
   ]
  },
  {
   "cell_type": "code",
   "execution_count": 6,
   "metadata": {},
   "outputs": [],
   "source": [
    "# LOAD MODEL\n",
    "model = Model(satname=satname, namemodel=namemodel)"
   ]
  },
  {
   "cell_type": "code",
   "execution_count": null,
   "metadata": {},
   "outputs": [],
   "source": [
    "# PREDICTION\n",
    "# Compute cloud mask (CM) from image with selected model\n",
    "cloud_prob_bin = model.predict(satobj)"
   ]
  },
  {
   "cell_type": "code",
   "execution_count": null,
   "metadata": {},
   "outputs": [],
   "source": [
    "# Store computed CM into .TIFF in product path\n",
    "save_cloud_mask(satobj, cloud_prob_bin, os.path.join(satobj.folder, \"cmixuvclouds_\" + namemodel + \".tif\"))"
   ]
  },
  {
   "cell_type": "code",
   "execution_count": null,
   "metadata": {},
   "outputs": [],
   "source": [
    "# VISUALIZATIONS\n",
    "# Load RGB bands for visualisation\n",
    "rgb = satobj.load_bands(bands=[2, 3, 4])"
   ]
  },
  {
   "cell_type": "code",
   "execution_count": null,
   "metadata": {},
   "outputs": [],
   "source": [
    "# Plot RGB\n",
    "plt.imshow(rgb)"
   ]
  },
  {
   "cell_type": "code",
   "execution_count": null,
   "metadata": {},
   "outputs": [],
   "source": [
    "# Plot cloud mask\n",
    "plt.imshow(cloud_prob_bin)"
   ]
  }
 ],
 "metadata": {
  "kernelspec": {
   "display_name": "Python 3",
   "language": "python",
   "name": "python3"
  },
  "language_info": {
   "codemirror_mode": {
    "name": "ipython",
    "version": 3
   },
   "file_extension": ".py",
   "mimetype": "text/x-python",
   "name": "python",
   "nbconvert_exporter": "python",
   "pygments_lexer": "ipython3",
   "version": "3.7.9"
  }
 },
 "nbformat": 4,
 "nbformat_minor": 4
}
